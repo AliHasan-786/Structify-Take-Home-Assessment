{
  "nbformat": 4,
  "nbformat_minor": 0,
  "metadata": {
    "colab": {
      "provenance": [],
      "authorship_tag": "ABX9TyPRYDuHa+HMCEpfKU1LWrIA",
      "include_colab_link": true
    },
    "kernelspec": {
      "name": "python3",
      "display_name": "Python 3"
    },
    "language_info": {
      "name": "python"
    }
  },
  "cells": [
    {
      "cell_type": "markdown",
      "metadata": {
        "id": "view-in-github",
        "colab_type": "text"
      },
      "source": [
        "<a href=\"https://colab.research.google.com/github/AliHasan-786/Structify-Take-Home-Assessment/blob/main/StructifyTakeHomeAssessment.ipynb\" target=\"_parent\"><img src=\"https://colab.research.google.com/assets/colab-badge.svg\" alt=\"Open In Colab\"/></a>"
      ]
    },
    {
      "cell_type": "code",
      "source": [
        "!pip install sortedcontainers"
      ],
      "metadata": {
        "colab": {
          "base_uri": "https://localhost:8080/"
        },
        "id": "NNWOlebi0YBW",
        "outputId": "1425a208-847e-4a5a-958b-0d27a54356c3"
      },
      "execution_count": null,
      "outputs": [
        {
          "output_type": "stream",
          "name": "stdout",
          "text": [
            "Requirement already satisfied: sortedcontainers in /usr/local/lib/python3.10/dist-packages (2.4.0)\n"
          ]
        }
      ]
    },
    {
      "cell_type": "code",
      "execution_count": null,
      "metadata": {
        "colab": {
          "base_uri": "https://localhost:8080/"
        },
        "id": "6VMC43u2xDNn",
        "outputId": "d4e3801a-34bd-42dc-8942-0bf79d170f09"
      },
      "outputs": [
        {
          "output_type": "stream",
          "name": "stdout",
          "text": [
            "0\n"
          ]
        }
      ],
      "source": [
        "from typing import List\n",
        "from sortedcontainers import SortedList\n",
        "\n",
        "def count_intersections(radians: List[float], identifiers: List[str]) -> int:\n",
        "    # Generate a list of tuples containing the start and end radians of each chord\n",
        "    chords = [(radians[i], radians[i + 1], identifiers[i // 2]) for i in range(0, len(radians), 2)]\n",
        "\n",
        "    # Initialize a SortedList to keep track of active chords\n",
        "    active_chords = SortedList(key=lambda x: x[1])  # Sorted by end radians for efficient removal\n",
        "    intersections = 0\n",
        "\n",
        "    for start, end, _ in sorted(chords):\n",
        "        # Remove chords that have ended before the current chord starts\n",
        "        active_chords = SortedList([ch for ch in active_chords if ch[1] > start], key=lambda x: x[1])\n",
        "\n",
        "        # Check for intersections: any active chord that ends after the current chord starts\n",
        "        intersections += len(active_chords)\n",
        "\n",
        "        # Add the current chord to the active chords list\n",
        "        active_chords.add((start, end))\n",
        "\n",
        "    return intersections\n",
        "\n",
        "# Example usage:\n",
        "radians = [0.78, 1.47, 1.77, 3.92]\n",
        "identifiers = [\"s1\", \"e1\", \"s2\", \"e2\"]\n",
        "print(count_intersections(radians, identifiers))\n"
      ]
    }
  ]
}