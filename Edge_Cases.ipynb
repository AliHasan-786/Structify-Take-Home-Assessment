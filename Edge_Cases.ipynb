{
  "nbformat": 4,
  "nbformat_minor": 0,
  "metadata": {
    "colab": {
      "provenance": [],
      "authorship_tag": "ABX9TyPFrb1AtnXq/NMkPCb5BE16",
      "include_colab_link": true
    },
    "kernelspec": {
      "name": "python3",
      "display_name": "Python 3"
    },
    "language_info": {
      "name": "python"
    }
  },
  "cells": [
    {
      "cell_type": "markdown",
      "metadata": {
        "id": "view-in-github",
        "colab_type": "text"
      },
      "source": [
        "<a href=\"https://colab.research.google.com/github/AliHasan-786/Structify-Take-Home-Assessment/blob/main/Edge_Cases.ipynb\" target=\"_parent\"><img src=\"https://colab.research.google.com/assets/colab-badge.svg\" alt=\"Open In Colab\"/></a>"
      ]
    },
    {
      "cell_type": "code",
      "source": [
        "import unittest\n",
        "from count_intersections import count_intersections\n",
        "\n",
        "class TestCountIntersections(unittest.TestCase):\n",
        "    def test_single_intersection(self):\n",
        "        radians = [0.78, 1.47, 1.77, 3.92]\n",
        "        identifiers = [\"s1\", \"e1\", \"s2\", \"e2\"]\n",
        "        self.assertEqual(count_intersections(radians, identifiers), 1)\n",
        "\n",
        "    def test_no_intersection(self):\n",
        "        radians = [0.9, 1.3, 1.70, 2.92]\n",
        "        identifiers = [\"s1\", \"e1\", \"s2\", \"e2\"]\n",
        "        self.assertEqual(count_intersections(radians, identifiers), 0)\n",
        "\n",
        "    def test_multiple_intersections(self):\n",
        "        radians = [0.5, 2.5, 1.5, 3.5]\n",
        "        identifiers = [\"s1\", \"e1\", \"s2\", \"e2\"]\n",
        "        self.assertEqual(count_intersections(radians, identifiers), 2)\n",
        "\n",
        "    def test_edge_case_same_start_or_end(self):\n",
        "        radians = [0.5, 2.5, 2.5, 4.5]\n",
        "        identifiers = [\"s1\", \"e1\", \"s2\", \"e2\"]\n",
        "        self.assertEqual(count_intersections(radians, identifiers), 1)\n",
        "\n",
        "    def test_edge_case_wrap_around(self):\n",
        "        radians = [6.0, 0.5, 5.0, 1.0]\n",
        "        identifiers = [\"s1\", \"e1\", \"s2\", \"e2\"]\n",
        "        self.assertEqual(count_intersections(radians, identifiers), 1)\n",
        "\n",
        "if __name__ == \"__main__\":\n",
        "    unittest.main()\n"
      ],
      "metadata": {
        "id": "vBlwUV-UILS4"
      },
      "execution_count": null,
      "outputs": []
    }
  ]
}